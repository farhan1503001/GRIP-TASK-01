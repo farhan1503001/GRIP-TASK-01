{
  "nbformat": 4,
  "nbformat_minor": 0,
  "metadata": {
    "colab": {
      "name": "Prediction Using Simple Linear Regression.ipynb",
      "provenance": [],
      "collapsed_sections": [],
      "authorship_tag": "ABX9TyMJfVKds3lC6rKU/ZTbbTOO",
      "include_colab_link": true
    },
    "kernelspec": {
      "name": "python3",
      "display_name": "Python 3"
    },
    "language_info": {
      "name": "python"
    }
  },
  "cells": [
    {
      "cell_type": "markdown",
      "metadata": {
        "id": "view-in-github",
        "colab_type": "text"
      },
      "source": [
        "<a href=\"https://colab.research.google.com/github/farhan1503001/GRIP-TASK-01/blob/main/Prediction_Using_Simple_Linear_Regression.ipynb\" target=\"_parent\"><img src=\"https://colab.research.google.com/assets/colab-badge.svg\" alt=\"Open In Colab\"/></a>"
      ]
    },
    {
      "cell_type": "markdown",
      "metadata": {
        "id": "Tpgfzi4gB9L6"
      },
      "source": [
        "# Taks-1: Prediction of Percentage of Students Based on Hours of Studying\n",
        "\n",
        "\n",
        "> **The Sparks Foundation-Graduate Rotational Internship Programme(Batch-July(2021)**\n",
        "\n",
        "\n",
        "\n",
        "> **Data Science and Business Analytics Internship**\n",
        "\n",
        "\n",
        "\n",
        "> **Submitted By: Mohd.Farhan Israk Soumik**\n",
        "\n"
      ]
    },
    {
      "cell_type": "markdown",
      "metadata": {
        "id": "DwJkkyL1C9mW"
      },
      "source": [
        "***\n",
        "\n",
        "> **Importing Required Libraries**\n",
        "\n",
        "\n",
        "\n",
        "---\n",
        "\n"
      ]
    },
    {
      "cell_type": "code",
      "metadata": {
        "id": "DpHwOysf8nJ3"
      },
      "source": [
        "import pandas as pd\n",
        "import numpy as np\n",
        "import matplotlib.pyplot as plt\n",
        "import sklearn as sk\n"
      ],
      "execution_count": null,
      "outputs": []
    },
    {
      "cell_type": "markdown",
      "metadata": {
        "id": "-0r_jL-jDbbF"
      },
      "source": [
        "\n",
        "\n",
        "> **Importing Dataset**\n",
        "\n"
      ]
    },
    {
      "cell_type": "code",
      "metadata": {
        "colab": {
          "base_uri": "https://localhost:8080/",
          "height": 206
        },
        "id": "BE0JJNNeDZgK",
        "outputId": "2ccaee6b-9d0b-49e7-eb7f-5a28cf15ec25"
      },
      "source": [
        "url=\"http://bit.ly/w-data\"\n",
        "dataset=pd.read_csv(url);\n",
        "dataset.head()"
      ],
      "execution_count": null,
      "outputs": [
        {
          "output_type": "execute_result",
          "data": {
            "text/html": [
              "<div>\n",
              "<style scoped>\n",
              "    .dataframe tbody tr th:only-of-type {\n",
              "        vertical-align: middle;\n",
              "    }\n",
              "\n",
              "    .dataframe tbody tr th {\n",
              "        vertical-align: top;\n",
              "    }\n",
              "\n",
              "    .dataframe thead th {\n",
              "        text-align: right;\n",
              "    }\n",
              "</style>\n",
              "<table border=\"1\" class=\"dataframe\">\n",
              "  <thead>\n",
              "    <tr style=\"text-align: right;\">\n",
              "      <th></th>\n",
              "      <th>Hours</th>\n",
              "      <th>Scores</th>\n",
              "    </tr>\n",
              "  </thead>\n",
              "  <tbody>\n",
              "    <tr>\n",
              "      <th>0</th>\n",
              "      <td>2.5</td>\n",
              "      <td>21</td>\n",
              "    </tr>\n",
              "    <tr>\n",
              "      <th>1</th>\n",
              "      <td>5.1</td>\n",
              "      <td>47</td>\n",
              "    </tr>\n",
              "    <tr>\n",
              "      <th>2</th>\n",
              "      <td>3.2</td>\n",
              "      <td>27</td>\n",
              "    </tr>\n",
              "    <tr>\n",
              "      <th>3</th>\n",
              "      <td>8.5</td>\n",
              "      <td>75</td>\n",
              "    </tr>\n",
              "    <tr>\n",
              "      <th>4</th>\n",
              "      <td>3.5</td>\n",
              "      <td>30</td>\n",
              "    </tr>\n",
              "  </tbody>\n",
              "</table>\n",
              "</div>"
            ],
            "text/plain": [
              "   Hours  Scores\n",
              "0    2.5      21\n",
              "1    5.1      47\n",
              "2    3.2      27\n",
              "3    8.5      75\n",
              "4    3.5      30"
            ]
          },
          "metadata": {
            "tags": []
          },
          "execution_count": 9
        }
      ]
    },
    {
      "cell_type": "markdown",
      "metadata": {
        "id": "aTA0vGC7DoP8"
      },
      "source": [
        "**Close Observation and Visualization of Dataset**"
      ]
    },
    {
      "cell_type": "code",
      "metadata": {
        "colab": {
          "base_uri": "https://localhost:8080/"
        },
        "id": "_kB7RQBAEW94",
        "outputId": "2afe1bc6-a149-430b-8ab1-dc9d909da53a"
      },
      "source": [
        "#Checking the shape and size of the dataset\n",
        "numelement,num_feature=dataset.shape\n",
        "print(\"Number of elements in the dataset: \",numelement);\n",
        "print(\"Number of features in the dataset: \",num_feature)"
      ],
      "execution_count": null,
      "outputs": [
        {
          "output_type": "stream",
          "text": [
            "Number of elements in the dataset:  25\n",
            "Number of features in the dataset:  2\n"
          ],
          "name": "stdout"
        }
      ]
    },
    {
      "cell_type": "code",
      "metadata": {
        "colab": {
          "base_uri": "https://localhost:8080/",
          "height": 300
        },
        "id": "vN-AboVLFDgj",
        "outputId": "ce2663bb-8b20-454d-c92e-2ac7372d4943"
      },
      "source": [
        "#Checking the statistical condition/situation of the dataset\n",
        "dataset.describe()"
      ],
      "execution_count": null,
      "outputs": [
        {
          "output_type": "execute_result",
          "data": {
            "text/html": [
              "<div>\n",
              "<style scoped>\n",
              "    .dataframe tbody tr th:only-of-type {\n",
              "        vertical-align: middle;\n",
              "    }\n",
              "\n",
              "    .dataframe tbody tr th {\n",
              "        vertical-align: top;\n",
              "    }\n",
              "\n",
              "    .dataframe thead th {\n",
              "        text-align: right;\n",
              "    }\n",
              "</style>\n",
              "<table border=\"1\" class=\"dataframe\">\n",
              "  <thead>\n",
              "    <tr style=\"text-align: right;\">\n",
              "      <th></th>\n",
              "      <th>Hours</th>\n",
              "      <th>Scores</th>\n",
              "    </tr>\n",
              "  </thead>\n",
              "  <tbody>\n",
              "    <tr>\n",
              "      <th>count</th>\n",
              "      <td>25.000000</td>\n",
              "      <td>25.000000</td>\n",
              "    </tr>\n",
              "    <tr>\n",
              "      <th>mean</th>\n",
              "      <td>5.012000</td>\n",
              "      <td>51.480000</td>\n",
              "    </tr>\n",
              "    <tr>\n",
              "      <th>std</th>\n",
              "      <td>2.525094</td>\n",
              "      <td>25.286887</td>\n",
              "    </tr>\n",
              "    <tr>\n",
              "      <th>min</th>\n",
              "      <td>1.100000</td>\n",
              "      <td>17.000000</td>\n",
              "    </tr>\n",
              "    <tr>\n",
              "      <th>25%</th>\n",
              "      <td>2.700000</td>\n",
              "      <td>30.000000</td>\n",
              "    </tr>\n",
              "    <tr>\n",
              "      <th>50%</th>\n",
              "      <td>4.800000</td>\n",
              "      <td>47.000000</td>\n",
              "    </tr>\n",
              "    <tr>\n",
              "      <th>75%</th>\n",
              "      <td>7.400000</td>\n",
              "      <td>75.000000</td>\n",
              "    </tr>\n",
              "    <tr>\n",
              "      <th>max</th>\n",
              "      <td>9.200000</td>\n",
              "      <td>95.000000</td>\n",
              "    </tr>\n",
              "  </tbody>\n",
              "</table>\n",
              "</div>"
            ],
            "text/plain": [
              "           Hours     Scores\n",
              "count  25.000000  25.000000\n",
              "mean    5.012000  51.480000\n",
              "std     2.525094  25.286887\n",
              "min     1.100000  17.000000\n",
              "25%     2.700000  30.000000\n",
              "50%     4.800000  47.000000\n",
              "75%     7.400000  75.000000\n",
              "max     9.200000  95.000000"
            ]
          },
          "metadata": {
            "tags": []
          },
          "execution_count": 13
        }
      ]
    },
    {
      "cell_type": "code",
      "metadata": {
        "colab": {
          "base_uri": "https://localhost:8080/"
        },
        "id": "kkd7y7gELkhP",
        "outputId": "ee996e31-e886-4bdc-9a33-60c8cc145be3"
      },
      "source": [
        "dataset.isnull().sum()"
      ],
      "execution_count": null,
      "outputs": [
        {
          "output_type": "execute_result",
          "data": {
            "text/plain": [
              "Hours     0\n",
              "Scores    0\n",
              "dtype: int64"
            ]
          },
          "metadata": {
            "tags": []
          },
          "execution_count": 16
        }
      ]
    },
    {
      "cell_type": "markdown",
      "metadata": {
        "id": "Mi6lZh5eFqLJ"
      },
      "source": [
        "\n",
        "\n",
        "> ***From the statistical description, we can see that count for Hours and Scores are both same and both of them are also equal to number of elements of the dataset  ***\n",
        "\n"
      ]
    },
    {
      "cell_type": "code",
      "metadata": {
        "colab": {
          "base_uri": "https://localhost:8080/",
          "height": 112
        },
        "id": "1taXRZ2QGaqA",
        "outputId": "24c44333-2374-4b2e-c9a1-5878f72d39fe"
      },
      "source": [
        "#Finding the correlation between features\n",
        "dataset.corr()"
      ],
      "execution_count": null,
      "outputs": [
        {
          "output_type": "execute_result",
          "data": {
            "text/html": [
              "<div>\n",
              "<style scoped>\n",
              "    .dataframe tbody tr th:only-of-type {\n",
              "        vertical-align: middle;\n",
              "    }\n",
              "\n",
              "    .dataframe tbody tr th {\n",
              "        vertical-align: top;\n",
              "    }\n",
              "\n",
              "    .dataframe thead th {\n",
              "        text-align: right;\n",
              "    }\n",
              "</style>\n",
              "<table border=\"1\" class=\"dataframe\">\n",
              "  <thead>\n",
              "    <tr style=\"text-align: right;\">\n",
              "      <th></th>\n",
              "      <th>Hours</th>\n",
              "      <th>Scores</th>\n",
              "    </tr>\n",
              "  </thead>\n",
              "  <tbody>\n",
              "    <tr>\n",
              "      <th>Hours</th>\n",
              "      <td>1.000000</td>\n",
              "      <td>0.976191</td>\n",
              "    </tr>\n",
              "    <tr>\n",
              "      <th>Scores</th>\n",
              "      <td>0.976191</td>\n",
              "      <td>1.000000</td>\n",
              "    </tr>\n",
              "  </tbody>\n",
              "</table>\n",
              "</div>"
            ],
            "text/plain": [
              "           Hours    Scores\n",
              "Hours   1.000000  0.976191\n",
              "Scores  0.976191  1.000000"
            ]
          },
          "metadata": {
            "tags": []
          },
          "execution_count": 15
        }
      ]
    },
    {
      "cell_type": "code",
      "metadata": {
        "colab": {
          "base_uri": "https://localhost:8080/",
          "height": 295
        },
        "id": "JMGJgZFjAuyp",
        "outputId": "a9bcfe7f-0b27-4bfc-e9ee-43e440146b95"
      },
      "source": [
        "dataset.plot(x='Hours',y='Scores',kind='scatter')\n",
        "plt.xlabel('Hours')\n",
        "plt.ylabel('Scores')\n",
        "plt.title('Plotting of Hours vs Percentage')\n",
        "plt.show()"
      ],
      "execution_count": null,
      "outputs": [
        {
          "output_type": "display_data",
          "data": {
            "image/png": "[encoded data removed]",
            "text/plain": [
              "<Figure size 432x288 with 1 Axes>"
            ]
          },
          "metadata": {
            "tags": [],
            "needs_background": "light"
          }
        }
      ]
    },
    {
      "cell_type": "markdown",
      "metadata": {
        "id": "d5k7TJ4JOqds"
      },
      "source": [
        "\n",
        "# **Dataset Preparation**\n",
        "\n",
        "> **Label feature separation**\n",
        "\n"
      ]
    },
    {
      "cell_type": "code",
      "metadata": {
        "colab": {
          "base_uri": "https://localhost:8080/"
        },
        "id": "cm5mjPkVQUGq",
        "outputId": "88ce6df6-46c0-4089-f9db-0ce69dc633f8"
      },
      "source": [
        "x=dataset.iloc[:,:-1].values\n",
        "y=dataset.iloc[:,1].values\n",
        "#observation\n",
        "print(x[:5])\n",
        "print(y[:5])"
      ],
      "execution_count": null,
      "outputs": [
        {
          "output_type": "stream",
          "text": [
            "[[2.5]\n",
            " [5.1]\n",
            " [3.2]\n",
            " [8.5]\n",
            " [3.5]]\n",
            "[21 47 27 75 30]\n"
          ],
          "name": "stdout"
        }
      ]
    },
    {
      "cell_type": "markdown",
      "metadata": {
        "id": "syVol8n4RgE6"
      },
      "source": [
        "\n",
        "\n",
        "> **Train Test Split**\n",
        "\n"
      ]
    },
    {
      "cell_type": "code",
      "metadata": {
        "id": "f-_EbvK1RlYB"
      },
      "source": [
        "x_train,x_test,y_train,y_test=sk.model_selection.train_test_split(x,y,test_size=0.20)"
      ],
      "execution_count": null,
      "outputs": []
    },
    {
      "cell_type": "markdown",
      "metadata": {
        "id": "bWPobUAtkmPC"
      },
      "source": [
        "**Observing Train and Test Set Split**"
      ]
    },
    {
      "cell_type": "code",
      "metadata": {
        "colab": {
          "base_uri": "https://localhost:8080/"
        },
        "id": "Mhpl6aZWSSZS",
        "outputId": "10495a44-21b0-47e2-9712-37d7c90e757e"
      },
      "source": [
        "#Observing first 10 values of train and test set\n",
        "print(x_train[0:10])\n",
        "print(x_test)"
      ],
      "execution_count": null,
      "outputs": [
        {
          "output_type": "stream",
          "text": [
            "[[3.3]\n",
            " [5.9]\n",
            " [6.9]\n",
            " [5.1]\n",
            " [2.7]\n",
            " [7.8]\n",
            " [2.7]\n",
            " [6.1]\n",
            " [1.9]\n",
            " [8.5]]\n",
            "[[9.2]\n",
            " [3.2]\n",
            " [7.7]\n",
            " [8.9]\n",
            " [7.4]]\n"
          ],
          "name": "stdout"
        }
      ]
    },
    {
      "cell_type": "code",
      "metadata": {
        "colab": {
          "base_uri": "https://localhost:8080/"
        },
        "id": "K5rtozelSkRA",
        "outputId": "c35f261e-126e-47bd-a3c0-a98380e08e71"
      },
      "source": [
        "#Observing training and test labels\n",
        "print(y_train[0:10])\n",
        "print(y_test[0:2])\n",
        "#Reshaping to create n*1 vector form\n",
        "y_train=y_train.reshape((len(y_train),1))\n",
        "y_test=y_test.reshape((len(y_test),1))\n",
        "print(y_train[0:10])\n",
        "print(y_test[0:2])"
      ],
      "execution_count": null,
      "outputs": [
        {
          "output_type": "stream",
          "text": [
            "[42 62 76 47 30 86 25 67 24 75]\n",
            "[88 27]\n",
            "[[42]\n",
            " [62]\n",
            " [76]\n",
            " [47]\n",
            " [30]\n",
            " [86]\n",
            " [25]\n",
            " [67]\n",
            " [24]\n",
            " [75]]\n",
            "[[88]\n",
            " [27]]\n"
          ],
          "name": "stdout"
        }
      ]
    },
    {
      "cell_type": "markdown",
      "metadata": {
        "id": "1bx8QZMON4Bo"
      },
      "source": [
        "# **Machine Learning Section**\n",
        "\n",
        ">  **Applying Linear Regression Model on dataset**\n",
        "\n"
      ]
    },
    {
      "cell_type": "code",
      "metadata": {
        "colab": {
          "base_uri": "https://localhost:8080/"
        },
        "id": "HCvUpjydNZSB",
        "outputId": "69c139c7-7918-4d72-88f4-40bb9669231b"
      },
      "source": [
        "from sklearn.linear_model import LinearRegression\n",
        "regressor_model=LinearRegression()\n",
        "regressor_model.fit(x_train,y_train)"
      ],
      "execution_count": null,
      "outputs": [
        {
          "output_type": "execute_result",
          "data": {
            "text/plain": [
              "LinearRegression(copy_X=True, fit_intercept=True, n_jobs=None, normalize=False)"
            ]
          },
          "metadata": {
            "tags": []
          },
          "execution_count": 41
        }
      ]
    },
    {
      "cell_type": "markdown",
      "metadata": {
        "id": "V6ErM_HvVXB_"
      },
      "source": [
        "\n",
        "> **Observing Accuracy and other metrices**"
      ]
    },
    {
      "cell_type": "code",
      "metadata": {
        "colab": {
          "base_uri": "https://localhost:8080/"
        },
        "id": "3FEAcsG8ik1p",
        "outputId": "a21a1cfe-5335-4f87-d7cc-648608cc9178"
      },
      "source": [
        "print(\"Train R2 Metrics Value: \",regressor_model.score(x_train,y_train))\n",
        "print(\"Test R2 Metrics Value: \",regressor_model.score(x_test,y_test))"
      ],
      "execution_count": null,
      "outputs": [
        {
          "output_type": "stream",
          "text": [
            "Train R2 Metrics Value:  0.9437386008128922\n",
            "Test R2 Metrics Value:  0.9356439881193909\n"
          ],
          "name": "stdout"
        }
      ]
    },
    {
      "cell_type": "markdown",
      "metadata": {
        "id": "8GQ1z_npXVha"
      },
      "source": [
        "**Here near uniformity between training accuracy and testing accuracy shows low variance or in simple sense declares that our model is not overfitting** "
      ]
    },
    {
      "cell_type": "markdown",
      "metadata": {
        "id": "Uu9Xth9li7_J"
      },
      "source": [
        "\n",
        "\n",
        "> **Analyzing Train and Test Set Performance with Errors** \n",
        "\n"
      ]
    },
    {
      "cell_type": "markdown",
      "metadata": {
        "id": "dpRnKZOBkfos"
      },
      "source": [
        "**Training Set Errors**"
      ]
    },
    {
      "cell_type": "code",
      "metadata": {
        "colab": {
          "base_uri": "https://localhost:8080/"
        },
        "id": "Namyt3xrbopM",
        "outputId": "c6ddd295-c692-428c-a81c-a5b10ee5ed25"
      },
      "source": [
        "#Finding Training error\n",
        "train_predict=regressor_model.predict(x_train)\n",
        "mean_error=sk.metrics.mean_absolute_error(y_train,train_predict)\n",
        "mean_squar_error=sk.metrics.mean_squared_error(y_train,train_predict)\n",
        "root_mean_squared_error=np.sqrt(mean_squar_error)\n",
        "print(\"Mean Absolute Training Error \",mean_error);\n",
        "print(\"Mean Squared Training Error \",mean_squar_error);\n",
        "print(\"Root Mean Squared Training Error \",root_mean_squared_error)"
      ],
      "execution_count": null,
      "outputs": [
        {
          "output_type": "stream",
          "text": [
            "Mean Absolute Training Error  4.62251009163047\n",
            "Mean Squared Training Error  26.78197320154097\n",
            "Root Mean Squared Training Error  5.1751302593790784\n"
          ],
          "name": "stdout"
        }
      ]
    },
    {
      "cell_type": "markdown",
      "metadata": {
        "id": "CNNbI1dokMvo"
      },
      "source": [
        "\n",
        "\n",
        "> **Predicted Test Set Result**\n",
        "\n"
      ]
    },
    {
      "cell_type": "code",
      "metadata": {
        "colab": {
          "base_uri": "https://localhost:8080/"
        },
        "id": "C5y12l7PX0W7",
        "outputId": "c45de0c9-ba92-48b3-e2d8-8e09c4849863"
      },
      "source": [
        "#Predicting test_set results\n",
        "y_pred=regressor_model.predict(x_test)\n",
        "y_pred"
      ],
      "execution_count": null,
      "outputs": [
        {
          "output_type": "execute_result",
          "data": {
            "text/plain": [
              "array([[91.74262121],\n",
              "       [34.21249981],\n",
              "       [77.36009086],\n",
              "       [88.86611514],\n",
              "       [74.48358479]])"
            ]
          },
          "metadata": {
            "tags": []
          },
          "execution_count": 47
        }
      ]
    },
    {
      "cell_type": "markdown",
      "metadata": {
        "id": "rX94_jMqkaPY"
      },
      "source": [
        "**Test Set Errors**"
      ]
    },
    {
      "cell_type": "code",
      "metadata": {
        "colab": {
          "base_uri": "https://localhost:8080/"
        },
        "id": "ad8xyoghh13l",
        "outputId": "162d75f3-24d3-4adf-c48b-8eaba9b8bbcd"
      },
      "source": [
        "#Finding Test Set Errors\n",
        "mean_error=sk.metrics.mean_absolute_error(y_test,y_pred)\n",
        "mean_squar_error=sk.metrics.mean_squared_error(y_test,y_pred)\n",
        "root_mean_squared_error=np.sqrt(mean_squar_error)\n",
        "print(\"Mean Absolute Training Error \",mean_error);\n",
        "print(\"Mean Squared Training Error \",mean_squar_error);\n",
        "print(\"Root Mean Squared Training Error \",root_mean_squared_error)"
      ],
      "execution_count": null,
      "outputs": [
        {
          "output_type": "stream",
          "text": [
            "Mean Absolute Training Error  6.0424999616287804\n",
            "Mean Squared Training Error  38.41796485224838\n",
            "Root Mean Squared Training Error  6.198222717218895\n"
          ],
          "name": "stdout"
        }
      ]
    },
    {
      "cell_type": "code",
      "metadata": {
        "colab": {
          "base_uri": "https://localhost:8080/"
        },
        "id": "OFvQ23ixa8zx",
        "outputId": "db99d60d-2a7b-44f8-a41d-6dab9305112c"
      },
      "source": [
        "#Comparison between results\n",
        "print(list(y_pred))\n",
        "print(list(y_test))"
      ],
      "execution_count": null,
      "outputs": [
        {
          "output_type": "stream",
          "text": [
            "[array([91.74262121]), array([34.21249981]), array([77.36009086]), array([88.86611514]), array([74.48358479])]\n",
            "[array([88]), array([27]), array([85]), array([95]), array([69])]\n"
          ],
          "name": "stdout"
        }
      ]
    },
    {
      "cell_type": "markdown",
      "metadata": {
        "id": "j1ctilfuYw5D"
      },
      "source": [
        "\n",
        "\n",
        "> **Visualization of the model**\n",
        "\n"
      ]
    },
    {
      "cell_type": "code",
      "metadata": {
        "colab": {
          "base_uri": "https://localhost:8080/",
          "height": 295
        },
        "id": "w-SmWp0VYwJi",
        "outputId": "cf75adc8-1bd1-43c0-ede4-5e8dfe5efe77"
      },
      "source": [
        "#First creating the line with y=mx+c\n",
        "line=regressor_model.coef_*x+regressor_model.intercept_\n",
        "#Now plotting first scatter\n",
        "plt.scatter(x,y,marker='o')\n",
        "#Now plotting model regressionline\n",
        "plt.plot(x,line,color='red')\n",
        "plt.xlabel('Hours of Study')\n",
        "plt.ylabel('Number of Students')\n",
        "plt.title(\"Study Hours vs Number of Students\")\n",
        "plt.show()"
      ],
      "execution_count": null,
      "outputs": [
        {
          "output_type": "display_data",
          "data": {
            "image/png": "[encoded data removed]",
            "text/plain": [
              "<Figure size 432x288 with 1 Axes>"
            ]
          },
          "metadata": {
            "tags": [],
            "needs_background": "light"
          }
        }
      ]
    },
    {
      "cell_type": "markdown",
      "metadata": {
        "id": "oQo2a37oabeE"
      },
      "source": [
        "# **Prediction Result**"
      ]
    },
    {
      "cell_type": "code",
      "metadata": {
        "colab": {
          "base_uri": "https://localhost:8080/"
        },
        "id": "szm8Jq6saaor",
        "outputId": "8eebca34-b651-43a2-d99a-d5f883fa28ab"
      },
      "source": [
        "hours=9.25\n",
        "num_students=regressor_model.predict([[hours]])\n",
        "print(\"Predicted Student Numbers who study for \",hours,\" is {%.2f}:\",num_students[[0]])"
      ],
      "execution_count": null,
      "outputs": [
        {
          "output_type": "stream",
          "text": [
            "Predicted Student Numbers who study for  9.25  is {%.2f}: [[92.22203889]]\n"
          ],
          "name": "stdout"
        }
      ]
    },
    {
      "cell_type": "markdown",
      "metadata": {
        "id": "RKAm01t3jfOm"
      },
      "source": [
        "# **Hence we can concluded that if a student is involved in 9.25 hours per day ,then there is a possibility that the percentage comes out to be 92.22203889 or roughly 92**"
      ]
    },
    {
      "cell_type": "markdown",
      "metadata": {
        "id": "tyDh04JWj6lP"
      },
      "source": [
        "**Thank you**"
      ]
    }
  ]
}